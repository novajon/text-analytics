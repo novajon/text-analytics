{
 "cells": [
  {
   "cell_type": "markdown",
   "metadata": {},
   "source": [
    "# Text Analytics Demonstration by Jonathan Janke"
   ]
  },
  {
   "cell_type": "markdown",
   "metadata": {},
   "source": [
    "This document explains how to extract meaning from text in order to classify it into predefined categories. The code uses strategies from Machine Learning and Natural Language Processing.\n",
    "\n",
    "The text corpus is taken from the **per-category files** from http://jmcauley.ucsd.edu/data/amazon/links.html. The text corpus is reviews from Amazon. The goal of the algorithm is to detect the category that a given review belongs to.\n",
    "\n",
    "Four product categories were chosen for simplification of analysis: Amazon Instant Video, Musical Instruments, Baby, Patio Lawn and Garden. Thus, these are the categories to be detected by the algorithm."
   ]
  },
  {
   "cell_type": "markdown",
   "metadata": {},
   "source": []
  },
  {
   "cell_type": "markdown",
   "metadata": {},
   "source": [
    "Starting with importing the necessary packages. It is preferable to import all necessary packages at the beginning rather than loading packes later on. Thus all the necessary packages are imported in this initial block."
   ]
  },
  {
   "cell_type": "code",
   "execution_count": 1,
   "metadata": {
    "collapsed": true
   },
   "outputs": [],
   "source": [
    "import json\n",
    "import pickle\n",
    "import datetime\n",
    "import pandas as pd\n",
    "import numpy as np\n",
    "import matplotlib.pyplot as plt\n",
    "import pdb\n",
    "import copy\n",
    "import collections\n",
    "\n",
    "from re import compile, sub\n",
    "\n",
    "import unidecode\n",
    "from nltk import sent_tokenize\n",
    "from nltk.tokenize import word_tokenize as wt\n",
    "from nltk.corpus import stopwords\n",
    "from nltk.stem import WordNetLemmatizer\n",
    "from nltk import pos_tag\n",
    "import pdb\n",
    "from sklearn.model_selection import train_test_split\n",
    "from features.process_text.tokenization import word_tokenize, ngrams_tokenize, vocabulary_size\n",
    "from sklearn import svm\n",
    "from sklearn.metrics import confusion_matrix"
   ]
  },
  {
   "cell_type": "code",
   "execution_count": 2,
   "metadata": {
    "collapsed": true
   },
   "outputs": [],
   "source": [
    "% matplotlib inline"
   ]
  },
  {
   "cell_type": "markdown",
   "metadata": {},
   "source": [
    "This program is not primarily focused on efficiency since it does not have to be reloaded a lot. Once the data is loaded once and the model is trained, it will rarely be necessary to do so again. \n",
    "\n",
    "Firstly, the data loading process could be optimised since we only need to read in 100000 lines of the data.\n",
    "Secondly, the data is afterwards stored in dictionaries of the form {dataset: data}. This could be stored more efficiently by encoding the dataset with a number within the data."
   ]
  },
  {
   "cell_type": "markdown",
   "metadata": {},
   "source": [
    "Before starting with the data gathering, it is helpful to define some helper functions. These will be used throughout the program and are most self-explanatory:\n",
    "- save_data enables saving the data to a defined output file (picke format). This enables us to export the cleaned data such that we do not need to do so again\n",
    "- load_data enables us to retrieved the previously saved data (from a pickle file)\n",
    "- apply_on_dict, apply_on_list, apply_on_real_list: As stated above, the data is stored in dictionaries of {datasource:data}. The values within these dictionaries are pandas dataframes. Within these pandas dataframes, values will later be stored in lists [e. g. tokenized text]. Every data transformation will need to be applied on all datasets and on all entries. These three functions enable code efficient looping through these data structures to apply functions to them.\n",
    "\n",
    "The functions are not implemented the most pythonic way. If I was to reimplement the method, I would use \\*args or even some \\*kwargs"
   ]
  },
  {
   "cell_type": "code",
   "execution_count": 3,
   "metadata": {
    "collapsed": true
   },
   "outputs": [],
   "source": [
    "def save_data (dictionary, file_identifier, include_timestamp = True):\n",
    "\n",
    "    now = datetime.datetime.now()\n",
    "    prefix = \"\"\n",
    "    if include_timestamp: prefix = now.strftime(\"%Y%m%d_%H%M_\")\n",
    "    with open('data/output/' + prefix + file_identifier + '.pickle', 'wb') as handle:\n",
    "        pickle.dump(dictionary, handle, protocol=pickle.HIGHEST_PROTOCOL)"
   ]
  },
  {
   "cell_type": "code",
   "execution_count": 4,
   "metadata": {
    "collapsed": true
   },
   "outputs": [],
   "source": [
    "def load_data (file_name):\n",
    "    with open('data/output/' + file_name + \".pickle\", 'rb') as handle:\n",
    "        return pickle.load(handle)"
   ]
  },
  {
   "cell_type": "code",
   "execution_count": 5,
   "metadata": {
    "collapsed": true
   },
   "outputs": [],
   "source": [
    "def apply_on_dict(data_input_, func, params = []):\n",
    "    data_input = copy.deepcopy(data_input_)\n",
    "    for key in data_input.keys():\n",
    "        l_text = data_input[key]\n",
    "        temp = func(l_text, *params)\n",
    "        pdb.set_trace\n",
    "        data_input[key] = temp\n",
    "    return data_input"
   ]
  },
  {
   "cell_type": "code",
   "execution_count": 6,
   "metadata": {
    "collapsed": true
   },
   "outputs": [],
   "source": [
    "def apply_on_list(list_data, func, params = []):\n",
    "    for index, row in list_data.iteritems():\n",
    "        list_data.loc[index] = func(row, *params)\n",
    "    return list_data"
   ]
  },
  {
   "cell_type": "code",
   "execution_count": 7,
   "metadata": {
    "collapsed": true
   },
   "outputs": [],
   "source": [
    "def apply_on_real_list(list_data, func, params = []):\n",
    "    for row_ind in range(len(list_data)):\n",
    "        list_data[row_ind] = func(list_data[row_ind], *params)\n",
    "    return list_data"
   ]
  },
  {
   "cell_type": "markdown",
   "metadata": {},
   "source": [
    "## Data Gathering"
   ]
  },
  {
   "cell_type": "markdown",
   "metadata": {},
   "source": [
    "The data gathering step describes the process of reading in the data from the hard drive, subsampling it and performing some initial analysis on it."
   ]
  },
  {
   "cell_type": "markdown",
   "metadata": {},
   "source": [
    "The data is read from json files in a local folder of the project. The files to read are defined by the list below."
   ]
  },
  {
   "cell_type": "code",
   "execution_count": 8,
   "metadata": {
    "collapsed": true
   },
   "outputs": [],
   "source": [
    "data_sources = [\"reviews_Amazon_Instant_Video.json\",\"reviews_Musical_Instruments.json\", \"reviews_Baby.json\", \"reviews_Patio_Lawn_and_Garden.json\"]"
   ]
  },
  {
   "cell_type": "markdown",
   "metadata": {},
   "source": [
    "This part drops the \".json\" part from the filenames, so the names are nicer to read."
   ]
  },
  {
   "cell_type": "code",
   "execution_count": 9,
   "metadata": {
    "collapsed": true
   },
   "outputs": [],
   "source": [
    "source_name = [name.split(\"reviews_\")[1].split(\".\")[0] for name in data_sources]"
   ]
  },
  {
   "cell_type": "markdown",
   "metadata": {},
   "source": [
    "Initially, the data is read in json format in a pandas data frame. After the first time, when the data sources were loaded ones and subsample, this process will be omitted by reading in from pickle files of data subsamples (as described below)."
   ]
  },
  {
   "cell_type": "code",
   "execution_count": null,
   "metadata": {
    "collapsed": true
   },
   "outputs": [],
   "source": [
    "# ALT1:\n",
    "data_json = [{source_name: pd.read_json(\"data/\" + data_source, lines=True)} for data_source,source_name in zip(data_sources, source_name)]"
   ]
  },
  {
   "cell_type": "markdown",
   "metadata": {},
   "source": [
    "The four datasets will be stored in a dictionary for the preprocessing part. Furthermore, the data is subsampled to only contain 100000 comments per dataset. The dictionaries will be of the form {source_name:source_content} for all sources"
   ]
  },
  {
   "cell_type": "code",
   "execution_count": 10,
   "metadata": {
    "collapsed": true
   },
   "outputs": [],
   "source": [
    "data_review = {source_name[i]:data_json[i][source_name[i]][\"reviewText\"][0:100000] for i  in range(len(data_json))}"
   ]
  },
  {
   "cell_type": "markdown",
   "metadata": {},
   "source": [
    "As described above, an alternative to loading the all of the files and subsampling is reading the prepared dictionaries from the hard drives. This step assumes that the data has been saved in the desired format before. For the example below, a file with the name \"20180421_1219_initial_data_filtered.pickle\" needs to be stored."
   ]
  },
  {
   "cell_type": "code",
   "execution_count": 9,
   "metadata": {
    "collapsed": true
   },
   "outputs": [],
   "source": [
    "# # ALT2:\n",
    "data_review = load_data(\"20180421_1219_initial_data_filtered\")"
   ]
  },
  {
   "cell_type": "code",
   "execution_count": 73,
   "metadata": {
    "collapsed": true
   },
   "outputs": [],
   "source": [
    "# data_review = {key: value[0:100] for key,value in zip(data_review.keys(), data_review.values())}"
   ]
  },
  {
   "cell_type": "markdown",
   "metadata": {},
   "source": [
    "We can look at the data to get a general understanding of the data. This gives us a general notion of what the dataset looks like. We can see that the comments talk about topics like \"South Park\" and \"cartoon series\". This already gives us a notion of how these Amazon Instant Video comments look like and what they talk about.  "
   ]
  },
  {
   "cell_type": "code",
   "execution_count": 74,
   "metadata": {},
   "outputs": [
    {
     "data": {
      "text/plain": [
       "0    CA Lewsi' review should be removed. he's revie...\n",
       "1    I truly love the humor of South Park. It's soc...\n",
       "2    This is a cartoon series pitting eight cartoon...\n",
       "3    Yeah drawn together is great when it comes to ...\n",
       "4    Seems like today's generation is getting reven...\n",
       "Name: reviewText, dtype: object"
      ]
     },
     "execution_count": 74,
     "metadata": {},
     "output_type": "execute_result"
    }
   ],
   "source": [
    "data_review[\"Amazon_Instant_Video\"].head()"
   ]
  },
  {
   "cell_type": "markdown",
   "metadata": {},
   "source": [
    "To load the data in the process above, we need a saved file. This process step saves the data with the name defined below (and adds a date tag)."
   ]
  },
  {
   "cell_type": "code",
   "execution_count": 14,
   "metadata": {
    "collapsed": true
   },
   "outputs": [],
   "source": [
    "save_data(data_review, \"initial_data_filtered\")"
   ]
  },
  {
   "cell_type": "markdown",
   "metadata": {},
   "source": [
    "To look at some more general notions of the dataset, one can define a function that counts the number of words for each review source. The function works on an entire dictionary and saves the length (number of words) for each comment in the dictionaries."
   ]
  },
  {
   "cell_type": "code",
   "execution_count": 20,
   "metadata": {
    "collapsed": true
   },
   "outputs": [],
   "source": [
    "def count_data (data_review): return {key: np.array([len(l) for l in text]) for text,key in zip(data_review.values(),data_review.keys())}"
   ]
  },
  {
   "cell_type": "markdown",
   "metadata": {},
   "source": [
    "Then we can count the data for all entries in the dictionary."
   ]
  },
  {
   "cell_type": "code",
   "execution_count": 65,
   "metadata": {
    "collapsed": true
   },
   "outputs": [],
   "source": [
    "data_count = count_data(data_review)"
   ]
  },
  {
   "cell_type": "markdown",
   "metadata": {},
   "source": [
    "Furthermore, it makes sense to define a function to plot the data count for all data sources, so one can get a visual understanding of how the comment distribution looks like. This visualisation could also be used to perform an outlier filtering, although this step was ommited for this project."
   ]
  },
  {
   "cell_type": "code",
   "execution_count": 21,
   "metadata": {
    "collapsed": true
   },
   "outputs": [],
   "source": [
    "def plot_words(data_count):\n",
    "    fig, axes = plt.subplots(2,2)\n",
    "    for i in range(4):\n",
    "        axes[int(i/2), i%2].plot(data_count[source_name[i]])\n",
    "        axes[int(i/2), i%2].set_title(source_name[i])\n",
    "        axes[int(i/2), i%2].set_ylabel(\"Number of words\")\n",
    "        axes[int(i/2), i%2].set_xlabel(\"Entry #\")\n",
    "    fig.tight_layout()\n",
    "    plt.show()"
   ]
  },
  {
   "cell_type": "markdown",
   "metadata": {},
   "source": [
    "And plot all four data sources..."
   ]
  },
  {
   "cell_type": "code",
   "execution_count": 66,
   "metadata": {},
   "outputs": [
    {
     "data": {
      "image/png": "[encoded data removed]",
      "text/plain": [
       "<matplotlib.figure.Figure at 0x1bfa7061a20>"
      ]
     },
     "metadata": {},
     "output_type": "display_data"
    }
   ],
   "source": [
    "plot_words(data_count)"
   ]
  },
  {
   "cell_type": "markdown",
   "metadata": {},
   "source": [
    "## Data Preprocessing"
   ]
  },
  {
   "cell_type": "markdown",
   "metadata": {},
   "source": [
    "Data Preprocessing is about preparing the textual data to eventually perform numerical analysis on it. This step is often referred to as normalisation. Basically, its goal is to ommit parts of speech whose meaning contribute little to the understanding of the sentence. Furthermore, we want to get similar/identical expression in a unified format. The preprocessing step below includes:\n",
    "- lower case conversion\n",
    "- contraction replacement\n",
    "- accent/umlaut treatment\n",
    "- special character treatment\n",
    "- end character removal\n",
    "- stop word removal\n",
    "- word/sentence tokenization\n",
    "- lemmatization\n",
    "- POS tagging\n",
    "\n",
    "Other possible steps were excluded, e. g. acronym treatment, spelling correction. The reason for this is that acronym replacement requires a predefined lexicon or a pretrained model and spelling correction can likely lead to erroneous results in social media data since spelling rules are often ignored and words are abbreviated in unconventional ways, e. g. \"u\" instead of \"you\". Furthermore, spelling correction requires a big text corpus that fits the dataset. This not only adds computational complexity of building a probabilistic word model on the other text corpus but also imposes the difficulty of choosing an adequate corpus that reflects today's speech patterns.\n",
    "\n",
    "During the following steps, the functions \"apply_on_dict\", \"apply_on_list\" and \"apply_on_real_list\" are leveraged to simplify the preprocessing as described in the introduction above."
   ]
  },
  {
   "cell_type": "markdown",
   "metadata": {},
   "source": [
    "### Lower Case Conversion"
   ]
  },
  {
   "cell_type": "code",
   "execution_count": 11,
   "metadata": {
    "collapsed": true
   },
   "outputs": [],
   "source": [
    "clean_lower_case = apply_on_dict(data_review, apply_on_list, [str.lower])"
   ]
  },
  {
   "cell_type": "code",
   "execution_count": 23,
   "metadata": {},
   "outputs": [
    {
     "data": {
      "text/plain": [
       "0    ca lewsi' review should be removed. he's revie...\n",
       "1    i truly love the humor of south park. it's soc...\n",
       "2    this is a cartoon series pitting eight cartoon...\n",
       "3    yeah drawn together is great when it comes to ...\n",
       "4    seems like today's generation is getting reven...\n",
       "Name: reviewText, dtype: object"
      ]
     },
     "execution_count": 23,
     "metadata": {},
     "output_type": "execute_result"
    }
   ],
   "source": [
    "clean_lower_case[\"Amazon_Instant_Video\"].head()"
   ]
  },
  {
   "cell_type": "markdown",
   "metadata": {},
   "source": [
    "### Contractions"
   ]
  },
  {
   "cell_type": "markdown",
   "metadata": {},
   "source": [
    "Contractions are short forms of expressions that are usually made up of multiple abbreviated words. These expressions should be converted to its original words. This step is called contraction expansion and is done with a dictionary. This dictionary contains many possible contractions such that we only need to go through the text corpus and replace their occurences by their expanded counterparts."
   ]
  },
  {
   "cell_type": "code",
   "execution_count": 13,
   "metadata": {
    "collapsed": true
   },
   "outputs": [],
   "source": [
    "CONTRACTION_DICT = {\n",
    "    \"ain't\": \"is not\",\n",
    "    \"aren't\": \"are not\",\n",
    "    \"can't\": \"cannot\",\n",
    "    \"can't've\": \"cannot have\",\n",
    "    \"'cause\": \"because\",\n",
    "    \"could've\": \"could have\",\n",
    "    \"couldn't\": \"could not\",\n",
    "    \"couldn't've\": \"could not have\",\n",
    "    \"didn't\": \"did not\",\n",
    "    \"doesn't\": \"does not\",\n",
    "    \"don't\": \"do not\",\n",
    "    \"hadn't\": \"had not\",\n",
    "    \"hadn't've\": \"had not have\",\n",
    "    \"hasn't\": \"has not\",\n",
    "    \"haven't\": \"have not\",\n",
    "    \"he'd\": \"he would\",\n",
    "    \"he'd've\": \"he would have\",\n",
    "    \"he'll\": \"he will\",\n",
    "    \"he'll've\": \"he he will have\",\n",
    "    \"he's\": \"he is\",\n",
    "    \"how'd\": \"how did\",\n",
    "    \"how'd'y\": \"how do you\",\n",
    "    \"how'll\": \"how will\",\n",
    "    \"how's\": \"how is\",\n",
    "    \"i'd\": \"I would\",\n",
    "    \"i'd've\": \"I would have\",\n",
    "    \"i'll\": \"I will\",\n",
    "    \"i'll've\": \"I will have\",\n",
    "    \"i'm\": \"I am\",\n",
    "    \"i've\": \"I have\",\n",
    "    \"i'd\": \"i would\",\n",
    "    \"i'd've\": \"i would have\",\n",
    "    \"i'll\": \"i will\",\n",
    "    \"i'll've\": \"i will have\",\n",
    "    \"i'm\": \"i am\",\n",
    "    \"i've\": \"i have\",\n",
    "    \"isn't\": \"is not\",\n",
    "    \"it'd\": \"it would\",\n",
    "    \"it'd've\": \"it would have\",\n",
    "    \"it'll\": \"it will\",\n",
    "    \"it'll've\": \"it will have\",\n",
    "    \"it's\": \"it is\",\n",
    "    \"let's\": \"let us\",\n",
    "    \"ma'am\": \"madam\",\n",
    "    \"mayn't\": \"may not\",\n",
    "    \"might've\": \"might have\",\n",
    "    \"mightn't\": \"might not\",\n",
    "    \"mightn't've\": \"might not have\",\n",
    "    \"must've\": \"must have\",\n",
    "    \"mustn't\": \"must not\",\n",
    "    \"mustn't've\": \"must not have\",\n",
    "    \"needn't\": \"need not\",\n",
    "    \"needn't've\": \"need not have\",\n",
    "    \"o'clock\": \"of the clock\",\n",
    "    \"oughtn't\": \"ought not\",\n",
    "    \"oughtn't've\": \"ought not have\",\n",
    "    \"shan't\": \"shall not\",\n",
    "    \"sha'n't\": \"shall not\",\n",
    "    \"shan't've\": \"shall not have\",\n",
    "    \"she'd\": \"she would\",\n",
    "    \"she'd've\": \"she would have\",\n",
    "    \"she'll\": \"she will\",\n",
    "    \"she'll've\": \"she will have\",\n",
    "    \"she's\": \"she is\",\n",
    "    \"should've\": \"should have\",\n",
    "    \"shouldn't\": \"should not\",\n",
    "    \"shouldn't've\": \"should not have\",\n",
    "    \"so've\": \"so have\",\n",
    "    \"so's\": \"so as\",\n",
    "    \"that'd\": \"that would\",\n",
    "    \"that'd've\": \"that would have\",\n",
    "    \"that's\": \"that is\",\n",
    "    \"there'd\": \"there would\",\n",
    "    \"there'd've\": \"there would have\",\n",
    "    \"there's\": \"there is\",\n",
    "    \"they'd\": \"they would\",\n",
    "    \"they'd've\": \"they would have\",\n",
    "    \"they'll\": \"they will\",\n",
    "    \"they'll've\": \"they will have\",\n",
    "    \"they're\": \"they are\",\n",
    "    \"they've\": \"they have\",\n",
    "    \"to've\": \"to have\",\n",
    "    \"wasn't\": \"was not\",\n",
    "    \"we'd\": \"we would\",\n",
    "    \"we'd've\": \"we would have\",\n",
    "    \"we'll\": \"we will\",\n",
    "    \"we'll've\": \"we will have\",\n",
    "    \"we're\": \"we are\",\n",
    "    \"we've\": \"we have\",\n",
    "    \"weren't\": \"were not\",\n",
    "    \"what'll\": \"what will\",\n",
    "    \"what'll've\": \"what will have\",\n",
    "    \"what're\": \"what are\",\n",
    "    \"what's\": \"what is\",\n",
    "    \"what've\": \"what have\",\n",
    "    \"when's\": \"when is\",\n",
    "    \"when've\": \"when have\",\n",
    "    \"where'd\": \"where did\",\n",
    "    \"where's\": \"where is\",\n",
    "    \"where've\": \"where have\",\n",
    "    \"who'll\": \"who will\",\n",
    "    \"who'll've\": \"who will have\",\n",
    "    \"who's\": \"who is\",\n",
    "    \"who've\": \"who have\",\n",
    "    \"why's\": \"why is\",\n",
    "    \"why've\": \"why have\",\n",
    "    \"will've\": \"will have\",\n",
    "    \"won't\": \"will not\",\n",
    "    \"won't've\": \"will not have\",\n",
    "    \"would've\": \"would have\",\n",
    "    \"wouldn't\": \"would not\",\n",
    "    \"wouldn't've\": \"would not have\",\n",
    "    \"y'all\": \"you all\",\n",
    "    \"y'all'd\": \"you all would\",\n",
    "    \"y'all'd've\": \"you all would have\",\n",
    "    \"y'all're\": \"you all are\",\n",
    "    \"y'all've\": \"you all have\",\n",
    "    \"you'd\": \"you would\",\n",
    "    \"you'd've\": \"you would have\",\n",
    "    \"you'll\": \"you will\",\n",
    "    \"you'll've\": \"you will have\",\n",
    "    \"you're\": \"you are\",\n",
    "    \"you've\": \"you have\"\n",
    "    }"
   ]
  },
  {
   "cell_type": "markdown",
   "metadata": {},
   "source": [
    "To find the contractions in the text, one can use a regular expression as below:"
   ]
  },
  {
   "cell_type": "code",
   "execution_count": 14,
   "metadata": {
    "collapsed": true
   },
   "outputs": [],
   "source": [
    "c_re = compile('(%s)' % '|'.join(CONTRACTION_DICT.keys()))"
   ]
  },
  {
   "cell_type": "markdown",
   "metadata": {},
   "source": [
    "One can define a function that can be applied on text strings to expand all contractions."
   ]
  },
  {
   "cell_type": "code",
   "execution_count": 15,
   "metadata": {
    "collapsed": true
   },
   "outputs": [],
   "source": [
    "def expandContractions(text, c_re=c_re):\n",
    "    def replace(match):\n",
    "        return CONTRACTION_DICT[match.group(0)]\n",
    "    return c_re.sub(replace, text)\n"
   ]
  },
  {
   "cell_type": "markdown",
   "metadata": {},
   "source": [
    "The above defined function is then applied on the whole dictionary and on every entry in the pandas dataframe for each dataset."
   ]
  },
  {
   "cell_type": "code",
   "execution_count": 16,
   "metadata": {
    "collapsed": true
   },
   "outputs": [],
   "source": [
    "clean_contractions = apply_on_dict(clean_lower_case, apply_on_list,[expandContractions])"
   ]
  },
  {
   "cell_type": "markdown",
   "metadata": {},
   "source": [
    "Looking at a sample of the data, one can already see in the first two comments that two contractions were removed at the beginning of the second sentence in both comments. In the first comment, the contraction \"He's\" was removed with \"he is\" and in the second comment \"It's\" was removed with \"it is\"."
   ]
  },
  {
   "cell_type": "code",
   "execution_count": 17,
   "metadata": {},
   "outputs": [
    {
     "data": {
      "text/plain": [
       "0    ca lewsi' review should be removed. he is revi...\n",
       "1    i truly love the humor of south park. it is so...\n",
       "2    this is a cartoon series pitting eight cartoon...\n",
       "3    yeah drawn together is great when it comes to ...\n",
       "4    seems like today's generation is getting reven...\n",
       "Name: reviewText, dtype: object"
      ]
     },
     "execution_count": 17,
     "metadata": {},
     "output_type": "execute_result"
    }
   ],
   "source": [
    "clean_contractions[\"Amazon_Instant_Video\"].head()"
   ]
  },
  {
   "cell_type": "markdown",
   "metadata": {},
   "source": [
    "### Accents/Umlauts"
   ]
  },
  {
   "cell_type": "markdown",
   "metadata": {},
   "source": [
    "Accents and umlauts are not common in the English language but some people still use them, e. g. for person names, titles but also words like \"naïve\" contain umlauts. As people tend to write these words differently, it makes sense to remove them entirely from the text corpus. This is done by converting the text string to unicode."
   ]
  },
  {
   "cell_type": "code",
   "execution_count": 18,
   "metadata": {
    "collapsed": true
   },
   "outputs": [],
   "source": [
    "clean_accents = apply_on_dict(clean_contractions, apply_on_list, [unidecode.unidecode])"
   ]
  },
  {
   "cell_type": "code",
   "execution_count": 19,
   "metadata": {},
   "outputs": [
    {
     "data": {
      "text/plain": [
       "0    ca lewsi' review should be removed. he is revi...\n",
       "1    i truly love the humor of south park. it is so...\n",
       "2    this is a cartoon series pitting eight cartoon...\n",
       "3    yeah drawn together is great when it comes to ...\n",
       "4    seems like today's generation is getting reven...\n",
       "Name: reviewText, dtype: object"
      ]
     },
     "execution_count": 19,
     "metadata": {},
     "output_type": "execute_result"
    }
   ],
   "source": [
    "clean_accents[\"Amazon_Instant_Video\"].head()"
   ]
  },
  {
   "cell_type": "markdown",
   "metadata": {},
   "source": [
    "### Special Chars"
   ]
  },
  {
   "cell_type": "markdown",
   "metadata": {},
   "source": [
    "The following step is about removing special characters from the text documents. Special characters are characters like \"$\", \"&\", \"*\", \"(\" etc. These characters usually do not contribute any meaning to the text. Thus, it is advisable to remove these. Nonetheless, some characters should be kept to maintain the corpus structure, e.g. \".\", \"?\", \"!\" for sentence breaks. To summarize the process below, all characters that are not defined as characters to keep (a...z,0...9,?,!,.) are removed from the text corpus."
   ]
  },
  {
   "cell_type": "code",
   "execution_count": 20,
   "metadata": {
    "collapsed": true
   },
   "outputs": [],
   "source": [
    "def remove_special_chars_from_dict(data_review):\n",
    "    for key in data_review.keys():\n",
    "        l_text = data_review[key]\n",
    "        data_review[key] = remove_special_chars_from_list(l_text)\n",
    "    return data_review"
   ]
  },
  {
   "cell_type": "code",
   "execution_count": 21,
   "metadata": {
    "collapsed": true
   },
   "outputs": [],
   "source": [
    "def remove_special_chars_from_list(l_text, SPECIAL_CHARACTERS = ['$', '&', '*', '%', '(', ')', '~', '-', '\"', \"'\", ',']):\n",
    "    for text_i in range(len(l_text)):\n",
    "        processed_text = special_characters_pattern.sub(r' ', l_text[text_i])\n",
    "        l_text[text_i] = sub(' +', ' ', processed_text)\n",
    "    return l_text\n",
    "\n",
    "def remove_special_chars (l_text, special_characters_pattern):\n",
    "    processed_text = special_characters_pattern.sub(r' ', l_text)\n",
    "    return sub(' +', ' ', processed_text)"
   ]
  },
  {
   "cell_type": "code",
   "execution_count": 22,
   "metadata": {
    "collapsed": true
   },
   "outputs": [],
   "source": [
    "def show_individual_characters (l_text):\n",
    "    return list(set([letter for text in l_text for word in text for letter in word]))"
   ]
  },
  {
   "cell_type": "code",
   "execution_count": 23,
   "metadata": {
    "collapsed": true
   },
   "outputs": [],
   "source": [
    "def show_individual_characters_2 (l_text):\n",
    "    return list(set([letter for word in l_text for letter in word]))"
   ]
  },
  {
   "cell_type": "code",
   "execution_count": 24,
   "metadata": {
    "collapsed": true
   },
   "outputs": [],
   "source": [
    "clean_copy = copy.deepcopy(clean_accents)"
   ]
  },
  {
   "cell_type": "code",
   "execution_count": 25,
   "metadata": {
    "collapsed": true
   },
   "outputs": [],
   "source": [
    "ind_words_dict = apply_on_dict(clean_copy, apply_on_list, [show_individual_characters_2])"
   ]
  },
  {
   "cell_type": "code",
   "execution_count": 26,
   "metadata": {
    "collapsed": true
   },
   "outputs": [],
   "source": [
    "ind_words = set([letter for dic in ind_words_dict.values() for row in dic for letter in row])"
   ]
  },
  {
   "cell_type": "code",
   "execution_count": 27,
   "metadata": {
    "collapsed": true
   },
   "outputs": [],
   "source": [
    "# make this a regex\n",
    "legal_chars = [\".\", \"?\", \"!\", \"0\", \"1\", \"2\", \"3\", \"4\", \"5\", \"6\", \"7\", \"8\", \"9\", \"a\",\"b\",\"c\",\"d\",\"e\",\"f\",\"g\",\"h\", \"i\", \"j\",\"k\",\"l\",\"m\",\"n\",\"o\",\"p\",\"q\",\"r\",\"s\",\"t\",\"u\",\"v\",\"w\",\"x\",\"y\",\"z\"]"
   ]
  },
  {
   "cell_type": "code",
   "execution_count": 28,
   "metadata": {
    "collapsed": true
   },
   "outputs": [],
   "source": [
    "ind_words_np = np.array([word for word in ind_words])\n",
    "legal_chars_np = np.array(legal_chars)"
   ]
  },
  {
   "cell_type": "code",
   "execution_count": 29,
   "metadata": {
    "collapsed": true
   },
   "outputs": [],
   "source": [
    "char_filter = [not np.isin(word, legal_chars_np) for word in ind_words_np]"
   ]
  },
  {
   "cell_type": "code",
   "execution_count": 30,
   "metadata": {
    "collapsed": true
   },
   "outputs": [],
   "source": [
    "SPECIAL_CHARACTERS = ind_words_np[char_filter]\n",
    "special_characters_literal = ['\\\\' + character for character in SPECIAL_CHARACTERS]\n",
    "special_characters_pattern = compile('[{}]'.format(''.join(special_characters_literal)))        "
   ]
  },
  {
   "cell_type": "code",
   "execution_count": 31,
   "metadata": {
    "collapsed": true
   },
   "outputs": [],
   "source": [
    "clean_special_chars = apply_on_dict(clean_accents, apply_on_list, [remove_special_chars, [special_characters_pattern]])"
   ]
  },
  {
   "cell_type": "markdown",
   "metadata": {},
   "source": [
    "Looking at the dataframe below, one can see that the data already looks a lot cleaner and has no more unnecessary special characters."
   ]
  },
  {
   "cell_type": "code",
   "execution_count": 32,
   "metadata": {},
   "outputs": [
    {
     "data": {
      "text/plain": [
       "0    ca lewsi review should be removed. he is revie...\n",
       "1    i truly love the humor of south park. it is so...\n",
       "2    this is a cartoon series pitting eight cartoon...\n",
       "3    yeah drawn together is great when it comes to ...\n",
       "4    seems like today s generation is getting reven...\n",
       "Name: reviewText, dtype: object"
      ]
     },
     "execution_count": 32,
     "metadata": {},
     "output_type": "execute_result"
    }
   ],
   "source": [
    "clean_special_chars[\"Amazon_Instant_Video\"].head()"
   ]
  },
  {
   "cell_type": "markdown",
   "metadata": {},
   "source": [
    "### Sentence Tokenization"
   ]
  },
  {
   "cell_type": "markdown",
   "metadata": {},
   "source": [
    "Sentence Tokenization is about splitting the text document into multiple sentences. This is not as trivial as breaking at every \".\",\"?\",\"!\" but requires a more solely understanding of the text to avoid breaking at occurences of these characters within the text. \n",
    "\n",
    "We use the sent_tokenize method from nltk and apply it on every entry in the dataframe for every dictionary in our document collection."
   ]
  },
  {
   "cell_type": "code",
   "execution_count": 33,
   "metadata": {
    "collapsed": true
   },
   "outputs": [],
   "source": [
    "# split into sentences\n",
    "clean_sentence_tokenized = apply_on_dict(clean_special_chars, apply_on_list, [sent_tokenize])"
   ]
  },
  {
   "cell_type": "markdown",
   "metadata": {},
   "source": [
    "The final document is similar to what it looked before but the list of comments is now subdivided into lists of sentences."
   ]
  },
  {
   "cell_type": "code",
   "execution_count": 34,
   "metadata": {},
   "outputs": [
    {
     "data": {
      "text/plain": [
       "['i truly love the humor of south park.',\n",
       " 'it is social political commentary and satirical wit and bathroom absurdity rules.',\n",
       " 'no holds barred!',\n",
       " 'i live to breathe another day in anticipation of trey parker s next installment whether it be south park or some other venture.',\n",
       " 'south park is truly the work of a genius.',\n",
       " 'thank you sir parker.',\n",
       " 'in britian they often knight certian individuals usually after they are old or dead for their contributions to their society sometimes it is dry.',\n",
       " 'sometimes it is wet.',\n",
       " 'and sometimes it is too moist for humor.',\n",
       " 'but somebody has to do it!i would like to see new south park episodes until the day i leave this mortal existence.',\n",
       " 'however i know that sir parker would want to move on .',\n",
       " 'however i would much like to see south park from the eyes of a 90 year old trey parker.',\n",
       " 'what wisdom would we see then?....']"
      ]
     },
     "execution_count": 34,
     "metadata": {},
     "output_type": "execute_result"
    }
   ],
   "source": [
    "clean_sentence_tokenized[\"Amazon_Instant_Video\"][1]"
   ]
  },
  {
   "cell_type": "markdown",
   "metadata": {},
   "source": [
    "### Word Tokenization"
   ]
  },
  {
   "cell_type": "markdown",
   "metadata": {},
   "source": [
    "The same procedure from sentence tokenization can be applied on words. This process ends up creating a nested list structure of our document collection containing multiple documents, which contain multiple comments, which themselves contain multiple sentences made up of multiple words. Thus, we have a very nested structure with individual words at its core."
   ]
  },
  {
   "cell_type": "code",
   "execution_count": 48,
   "metadata": {
    "collapsed": true
   },
   "outputs": [],
   "source": [
    "# split into words\n",
    "clean_word_tokenized = apply_on_dict(clean_sentence_tokenized, apply_on_list, [apply_on_real_list, [wt]])"
   ]
  },
  {
   "cell_type": "code",
   "execution_count": 49,
   "metadata": {},
   "outputs": [
    {
     "data": {
      "text/plain": [
       "[['i', 'truly', 'love', 'the', 'humor', 'of', 'south', 'park', '.'],\n",
       " ['it',\n",
       "  'is',\n",
       "  'social',\n",
       "  'political',\n",
       "  'commentary',\n",
       "  'and',\n",
       "  'satirical',\n",
       "  'wit',\n",
       "  'and',\n",
       "  'bathroom',\n",
       "  'absurdity',\n",
       "  'rules',\n",
       "  '.'],\n",
       " ['no', 'holds', 'barred', '!'],\n",
       " ['i',\n",
       "  'live',\n",
       "  'to',\n",
       "  'breathe',\n",
       "  'another',\n",
       "  'day',\n",
       "  'in',\n",
       "  'anticipation',\n",
       "  'of',\n",
       "  'trey',\n",
       "  'parker',\n",
       "  's',\n",
       "  'next',\n",
       "  'installment',\n",
       "  'whether',\n",
       "  'it',\n",
       "  'be',\n",
       "  'south',\n",
       "  'park',\n",
       "  'or',\n",
       "  'some',\n",
       "  'other',\n",
       "  'venture',\n",
       "  '.'],\n",
       " ['south', 'park', 'is', 'truly', 'the', 'work', 'of', 'a', 'genius', '.'],\n",
       " ['thank', 'you', 'sir', 'parker', '.'],\n",
       " ['in',\n",
       "  'britian',\n",
       "  'they',\n",
       "  'often',\n",
       "  'knight',\n",
       "  'certian',\n",
       "  'individuals',\n",
       "  'usually',\n",
       "  'after',\n",
       "  'they',\n",
       "  'are',\n",
       "  'old',\n",
       "  'or',\n",
       "  'dead',\n",
       "  'for',\n",
       "  'their',\n",
       "  'contributions',\n",
       "  'to',\n",
       "  'their',\n",
       "  'society',\n",
       "  'sometimes',\n",
       "  'it',\n",
       "  'is',\n",
       "  'dry',\n",
       "  '.'],\n",
       " ['sometimes', 'it', 'is', 'wet', '.'],\n",
       " ['and', 'sometimes', 'it', 'is', 'too', 'moist', 'for', 'humor', '.'],\n",
       " ['but',\n",
       "  'somebody',\n",
       "  'has',\n",
       "  'to',\n",
       "  'do',\n",
       "  'it',\n",
       "  '!',\n",
       "  'i',\n",
       "  'would',\n",
       "  'like',\n",
       "  'to',\n",
       "  'see',\n",
       "  'new',\n",
       "  'south',\n",
       "  'park',\n",
       "  'episodes',\n",
       "  'until',\n",
       "  'the',\n",
       "  'day',\n",
       "  'i',\n",
       "  'leave',\n",
       "  'this',\n",
       "  'mortal',\n",
       "  'existence',\n",
       "  '.'],\n",
       " ['however',\n",
       "  'i',\n",
       "  'know',\n",
       "  'that',\n",
       "  'sir',\n",
       "  'parker',\n",
       "  'would',\n",
       "  'want',\n",
       "  'to',\n",
       "  'move',\n",
       "  'on',\n",
       "  '.'],\n",
       " ['however',\n",
       "  'i',\n",
       "  'would',\n",
       "  'much',\n",
       "  'like',\n",
       "  'to',\n",
       "  'see',\n",
       "  'south',\n",
       "  'park',\n",
       "  'from',\n",
       "  'the',\n",
       "  'eyes',\n",
       "  'of',\n",
       "  'a',\n",
       "  '90',\n",
       "  'year',\n",
       "  'old',\n",
       "  'trey',\n",
       "  'parker',\n",
       "  '.'],\n",
       " ['what', 'wisdom', 'would', 'we', 'see', 'then', '?', '...', '.']]"
      ]
     },
     "execution_count": 49,
     "metadata": {},
     "output_type": "execute_result"
    }
   ],
   "source": [
    "clean_word_tokenized[\"Amazon_Instant_Video\"][1]"
   ]
  },
  {
   "cell_type": "markdown",
   "metadata": {},
   "source": [
    "### Remove end characters"
   ]
  },
  {
   "cell_type": "markdown",
   "metadata": {},
   "source": [
    "Having split the documents into its sentences and words, keeping the end characters is no longer necessary because we don't need them to detect our document structure. This process removes the remaining characters that we kept during the special char process above. Specifically, this means removing all \"?\", \".\", \"!\"."
   ]
  },
  {
   "cell_type": "code",
   "execution_count": 50,
   "metadata": {
    "collapsed": true
   },
   "outputs": [],
   "source": [
    "def remove_end_characters (text):\n",
    "    END_CHARACTERS = ['.', '?', '!']\n",
    "    end_characters_literal = ['\\\\' + character for character in END_CHARACTERS]\n",
    "    end_characters_pattern = compile('[{}]+'.format(''.join(end_characters_literal)))\n",
    "    return [word_token for word_token in text if not end_characters_pattern.match(word_token)]"
   ]
  },
  {
   "cell_type": "code",
   "execution_count": 51,
   "metadata": {
    "collapsed": true
   },
   "outputs": [],
   "source": [
    "clean_end_chars = apply_on_dict(clean_word_tokenized, apply_on_list, [apply_on_real_list, [remove_end_characters]])"
   ]
  },
  {
   "cell_type": "code",
   "execution_count": 52,
   "metadata": {},
   "outputs": [
    {
     "data": {
      "text/plain": [
       "[['i', 'truly', 'love', 'the', 'humor', 'of', 'south', 'park'],\n",
       " ['it',\n",
       "  'is',\n",
       "  'social',\n",
       "  'political',\n",
       "  'commentary',\n",
       "  'and',\n",
       "  'satirical',\n",
       "  'wit',\n",
       "  'and',\n",
       "  'bathroom',\n",
       "  'absurdity',\n",
       "  'rules'],\n",
       " ['no', 'holds', 'barred'],\n",
       " ['i',\n",
       "  'live',\n",
       "  'to',\n",
       "  'breathe',\n",
       "  'another',\n",
       "  'day',\n",
       "  'in',\n",
       "  'anticipation',\n",
       "  'of',\n",
       "  'trey',\n",
       "  'parker',\n",
       "  's',\n",
       "  'next',\n",
       "  'installment',\n",
       "  'whether',\n",
       "  'it',\n",
       "  'be',\n",
       "  'south',\n",
       "  'park',\n",
       "  'or',\n",
       "  'some',\n",
       "  'other',\n",
       "  'venture'],\n",
       " ['south', 'park', 'is', 'truly', 'the', 'work', 'of', 'a', 'genius'],\n",
       " ['thank', 'you', 'sir', 'parker'],\n",
       " ['in',\n",
       "  'britian',\n",
       "  'they',\n",
       "  'often',\n",
       "  'knight',\n",
       "  'certian',\n",
       "  'individuals',\n",
       "  'usually',\n",
       "  'after',\n",
       "  'they',\n",
       "  'are',\n",
       "  'old',\n",
       "  'or',\n",
       "  'dead',\n",
       "  'for',\n",
       "  'their',\n",
       "  'contributions',\n",
       "  'to',\n",
       "  'their',\n",
       "  'society',\n",
       "  'sometimes',\n",
       "  'it',\n",
       "  'is',\n",
       "  'dry'],\n",
       " ['sometimes', 'it', 'is', 'wet'],\n",
       " ['and', 'sometimes', 'it', 'is', 'too', 'moist', 'for', 'humor'],\n",
       " ['but',\n",
       "  'somebody',\n",
       "  'has',\n",
       "  'to',\n",
       "  'do',\n",
       "  'it',\n",
       "  'i',\n",
       "  'would',\n",
       "  'like',\n",
       "  'to',\n",
       "  'see',\n",
       "  'new',\n",
       "  'south',\n",
       "  'park',\n",
       "  'episodes',\n",
       "  'until',\n",
       "  'the',\n",
       "  'day',\n",
       "  'i',\n",
       "  'leave',\n",
       "  'this',\n",
       "  'mortal',\n",
       "  'existence'],\n",
       " ['however',\n",
       "  'i',\n",
       "  'know',\n",
       "  'that',\n",
       "  'sir',\n",
       "  'parker',\n",
       "  'would',\n",
       "  'want',\n",
       "  'to',\n",
       "  'move',\n",
       "  'on'],\n",
       " ['however',\n",
       "  'i',\n",
       "  'would',\n",
       "  'much',\n",
       "  'like',\n",
       "  'to',\n",
       "  'see',\n",
       "  'south',\n",
       "  'park',\n",
       "  'from',\n",
       "  'the',\n",
       "  'eyes',\n",
       "  'of',\n",
       "  'a',\n",
       "  '90',\n",
       "  'year',\n",
       "  'old',\n",
       "  'trey',\n",
       "  'parker'],\n",
       " ['what', 'wisdom', 'would', 'we', 'see', 'then']]"
      ]
     },
     "execution_count": 52,
     "metadata": {},
     "output_type": "execute_result"
    }
   ],
   "source": [
    "clean_end_chars[\"Amazon_Instant_Video\"][1]"
   ]
  },
  {
   "cell_type": "markdown",
   "metadata": {},
   "source": [
    "### Remove stop words"
   ]
  },
  {
   "cell_type": "markdown",
   "metadata": {},
   "source": [
    "Stop words are words that don't contain a lot of meaning, e.g. \"and\", \"or\", \"the\". Especially from a statistical analysis point of view, these words are contained in many corpora without having a distinguishing character for any corpora. Thus, running statistical analysis on those would not lead to any good results which is why it makes sense to remove them from the corpora.\n",
    "There are collections for several common stopwords for multiple languages available. Choosing the stopwords from English, we can remove all stopword from our word lists."
   ]
  },
  {
   "cell_type": "code",
   "execution_count": 53,
   "metadata": {
    "collapsed": true
   },
   "outputs": [],
   "source": [
    "def remove_stop_words (text):\n",
    "    return [word_token for word_token in text if word_token not in stopwords.words('english')]"
   ]
  },
  {
   "cell_type": "code",
   "execution_count": 55,
   "metadata": {
    "collapsed": true
   },
   "outputs": [],
   "source": [
    "clean_end_chars = apply_on_dict(clean_end_chars, apply_on_list, [apply_on_real_list, [remove_stop_words]])"
   ]
  },
  {
   "cell_type": "markdown",
   "metadata": {},
   "source": [
    "This leads to the word list below. This list should only contain words that determine the meaning of the comments and help distinguish these comments' categories from other categories'"
   ]
  },
  {
   "cell_type": "code",
   "execution_count": 58,
   "metadata": {},
   "outputs": [
    {
     "data": {
      "text/plain": [
       "0    [[ca, lewsi, review, removed], [reviewing, epi...\n",
       "1    [[truly, love, humor, south, park], [social, p...\n",
       "2    [[cartoon, series, pitting, eight, cartoon, st...\n",
       "3    [[yeah, drawn, together, great, comes, crude, ...\n",
       "4    [[seems, like, today, generation, getting, rev...\n",
       "Name: reviewText, dtype: object"
      ]
     },
     "execution_count": 58,
     "metadata": {},
     "output_type": "execute_result"
    }
   ],
   "source": [
    "clean_end_chars[\"Amazon_Instant_Video\"].head()"
   ]
  },
  {
   "cell_type": "markdown",
   "metadata": {},
   "source": [
    "Furthermore, it can make sense to remove all further words that  are shorter than a predefined length threshold. In this case, this process is not applied since the domain knowledge is available that for the instant video category category, the words \"cd\" and dvd\" are very common. These would likely be removed in the process described."
   ]
  },
  {
   "cell_type": "markdown",
   "metadata": {},
   "source": [
    "### Lemmatization"
   ]
  },
  {
   "cell_type": "markdown",
   "metadata": {},
   "source": [
    "Lemmatization is chosen to get the original form of the words in the documents. This is a form of normalization such that statistics more accurately represent word occurences. Here, lemmatization is chosen instead of stemming for this normalisation because lemmatization is usually more accurate. Stemming oftentimes leads to hardly interpretable word forms and does not work on special word forms, e. g. see, saw seen."
   ]
  },
  {
   "cell_type": "code",
   "execution_count": 59,
   "metadata": {
    "collapsed": true
   },
   "outputs": [],
   "source": [
    "clean_lemmatized = apply_on_dict(clean_end_chars, apply_on_list, [apply_on_real_list, [apply_on_real_list, [WordNetLemmatizer().lemmatize]]])"
   ]
  },
  {
   "cell_type": "code",
   "execution_count": 60,
   "metadata": {},
   "outputs": [
    {
     "data": {
      "text/plain": [
       "0    [[ca, lewsi, review, removed], [reviewing, epi...\n",
       "1    [[truly, love, humor, south, park], [social, p...\n",
       "2    [[cartoon, series, pitting, eight, cartoon, st...\n",
       "3    [[yeah, drawn, together, great, come, crude, h...\n",
       "4    [[seems, like, today, generation, getting, rev...\n",
       "Name: reviewText, dtype: object"
      ]
     },
     "execution_count": 60,
     "metadata": {},
     "output_type": "execute_result"
    }
   ],
   "source": [
    "clean_lemmatized[\"Amazon_Instant_Video\"].head()"
   ]
  },
  {
   "cell_type": "code",
   "execution_count": 61,
   "metadata": {
    "collapsed": true
   },
   "outputs": [],
   "source": [
    "data_cleaned = copy.deepcopy(clean_lemmatized)"
   ]
  },
  {
   "cell_type": "code",
   "execution_count": 62,
   "metadata": {
    "collapsed": true
   },
   "outputs": [],
   "source": [
    "save_data (data_cleaned, file_identifier=\"cleaned_data\")"
   ]
  },
  {
   "cell_type": "markdown",
   "metadata": {},
   "source": [
    "### POS tagging"
   ]
  },
  {
   "cell_type": "markdown",
   "metadata": {},
   "source": [
    "POS tagging enables understanding the corpus and its components. It assigns a tag from the Penn Treebank tagset to every word in the corpus. It enables filtering on specific parts of speech for a more detailed analysis. For example, this example will later train a classifier only on nouns in the corpus. These nouns are found thanks to the POS tagger. Furthermore, these tags help to verify that the preprocessing activities were conducted successfully."
   ]
  },
  {
   "cell_type": "code",
   "execution_count": 63,
   "metadata": {
    "collapsed": true
   },
   "outputs": [],
   "source": [
    "clean_tagged = apply_on_dict(clean_lemmatized, apply_on_list, [apply_on_real_list, [pos_tag]])"
   ]
  },
  {
   "cell_type": "markdown",
   "metadata": {},
   "source": [
    "One confirmation that the data preprocessing was conducted successfully is that we only see the tag \"NN\" in our words and rarely find other noun forms. This means that the other noun forms were mostly well normalized to its stem."
   ]
  },
  {
   "cell_type": "code",
   "execution_count": 64,
   "metadata": {},
   "outputs": [
    {
     "data": {
      "text/plain": [
       "[[('adult', 'NN'),\n",
       "  ('humor', 'NN'),\n",
       "  ('cutting', 'VBG'),\n",
       "  ('sarcasm', 'JJ'),\n",
       "  ('dry', 'JJ'),\n",
       "  ('take', 'NN'),\n",
       "  ('reality', 'NN'),\n",
       "  ('show', 'NN'),\n",
       "  ('least', 'JJS')]]"
      ]
     },
     "execution_count": 64,
     "metadata": {},
     "output_type": "execute_result"
    }
   ],
   "source": [
    "clean_tagged[\"Amazon_Instant_Video\"][10]"
   ]
  },
  {
   "cell_type": "code",
   "execution_count": 65,
   "metadata": {
    "collapsed": true
   },
   "outputs": [],
   "source": [
    "save_data (clean_tagged, file_identifier=\"clean_tagged\")"
   ]
  },
  {
   "cell_type": "markdown",
   "metadata": {},
   "source": [
    "The following two lines are not relevant to understand the process but they are used to recreate earlier preprocessed documents such that this resource-consuming process does not have to be repeated."
   ]
  },
  {
   "cell_type": "code",
   "execution_count": 10,
   "metadata": {},
   "outputs": [],
   "source": [
    "data_tagged = load_data(file_name=\"20180428_1933_clean_tagged\")\n",
    "# data_tagged = clean_tagged"
   ]
  },
  {
   "cell_type": "code",
   "execution_count": 11,
   "metadata": {},
   "outputs": [],
   "source": [
    "data_cleaned = load_data(file_name=\"20180422_0559_cleaned_data\")"
   ]
  },
  {
   "cell_type": "markdown",
   "metadata": {},
   "source": [
    "As described in the POS introduction, it makes sense to create a subset of the corpus that only contains nouns. We'll do that by using the POS tagged words and filtering every word that does not have the tag \"NN\"."
   ]
  },
  {
   "cell_type": "code",
   "execution_count": 68,
   "metadata": {
    "collapsed": true
   },
   "outputs": [],
   "source": [
    "def get_nouns(word_list):\n",
    "    noun_list = []\n",
    "    for word in word_list:\n",
    "        if word[1]==\"NN\" or word [1]==\"NNS\": noun_list.append(word[0])\n",
    "    return noun_list"
   ]
  },
  {
   "cell_type": "code",
   "execution_count": 69,
   "metadata": {
    "collapsed": true
   },
   "outputs": [],
   "source": [
    "data_nouns = apply_on_dict(data_tagged, apply_on_list, [apply_on_real_list, [get_nouns]])"
   ]
  },
  {
   "cell_type": "code",
   "execution_count": 70,
   "metadata": {
    "collapsed": true
   },
   "outputs": [],
   "source": [
    "save_data (data_nouns, file_identifier=\"clean_nouns\")"
   ]
  },
  {
   "cell_type": "code",
   "execution_count": 12,
   "metadata": {
    "collapsed": true
   },
   "outputs": [],
   "source": [
    "data_nouns = load_data(file_name=\"20180428_1954_clean_nouns\")"
   ]
  },
  {
   "cell_type": "code",
   "execution_count": 13,
   "metadata": {},
   "outputs": [
    {
     "data": {
      "text/plain": [
       "100000"
      ]
     },
     "execution_count": 13,
     "metadata": {},
     "output_type": "execute_result"
    }
   ],
   "source": [
    "len(data_nouns[\"Amazon_Instant_Video\"])"
   ]
  },
  {
   "cell_type": "markdown",
   "metadata": {},
   "source": [
    "## Data Exploration"
   ]
  },
  {
   "cell_type": "markdown",
   "metadata": {},
   "source": [
    "The data exploration step is about creating a deeper understanding of the preprocessed data. One can provide some visual insights into the shape of the cleaned textual data as done initially in the step at the beginning of this document. Furthermore, the data exploration step will be used to create different numeric data representations, such as different bag of words and ngram models (absolut, TFIDF-based)."
   ]
  },
  {
   "cell_type": "code",
   "execution_count": 13,
   "metadata": {
    "collapsed": true
   },
   "outputs": [],
   "source": [
    "nouns = copy.deepcopy(data_nouns)\n",
    "data = copy.deepcopy(data_cleaned)"
   ]
  },
  {
   "cell_type": "code",
   "execution_count": 14,
   "metadata": {
    "collapsed": true
   },
   "outputs": [],
   "source": [
    "def create_flat_representation_from_comment(comments):\n",
    "    #pdb.set_trace()\n",
    "    return [word for sentence in comments for word in sentence]\n",
    "def create_comment_representation(dict_inp):\n",
    "    return [[word for sentence in comment for word in sentence] for comment in dict_inp]\n",
    "def create_flat_representation(dict_inp):\n",
    "    return [word for sentence in create_comment_representation(dict_inp) for word in sentence]"
   ]
  },
  {
   "cell_type": "code",
   "execution_count": 55,
   "metadata": {
    "collapsed": true
   },
   "outputs": [],
   "source": [
    "flat_data = apply_on_dict(data_cleaned, create_flat_representation)\n",
    "flat_nouns = apply_on_dict(data_nouns, create_flat_representation)"
   ]
  },
  {
   "cell_type": "markdown",
   "metadata": {},
   "source": [
    "We can plot the length of the sentences for our datasets and look at their distribution. This clearly shows some outliers (not treated here to retain size of dataset)."
   ]
  },
  {
   "cell_type": "code",
   "execution_count": 57,
   "metadata": {},
   "outputs": [
    {
     "data": {
      "image/png": "[encoded data removed]",
      "text/plain": [
       "<matplotlib.figure.Figure at 0x1b0faa04668>"
      ]
     },
     "metadata": {},
     "output_type": "display_data"
    }
   ],
   "source": [
    "data_count = count_data(flat_data)\n",
    "plot_words(data_count)"
   ]
  },
  {
   "cell_type": "markdown",
   "metadata": {},
   "source": [
    "Nonetheless, this meta information is not used for the final classifier, because the intention is to only base this final classifier on textual inputs."
   ]
  },
  {
   "cell_type": "markdown",
   "metadata": {},
   "source": [
    "To actually use the different documents, we need to merge the seperated documents into a single file. To be able to train a classifier to these documents later, we assign a class to each document's comments, such as 0 for Amazon Instant Videos, etc."
   ]
  },
  {
   "cell_type": "code",
   "execution_count": 15,
   "metadata": {
    "collapsed": true
   },
   "outputs": [],
   "source": [
    "comment_data = apply_on_dict(data, create_comment_representation)\n",
    "comment_nouns = apply_on_dict(nouns, create_comment_representation)"
   ]
  },
  {
   "cell_type": "code",
   "execution_count": 16,
   "metadata": {
    "collapsed": true
   },
   "outputs": [],
   "source": [
    "def create_prediction_data(inp_data, inp_nouns):\n",
    "    prediction_data = []\n",
    "    prediction_nouns = []\n",
    "    y=[]\n",
    "    class_index = 0\n",
    "    for key in inp_data.keys():\n",
    "        # pdb.set_trace()\n",
    "        temp = ([\" \".join(da) for da in inp_data[key]])\n",
    "        # pdb.set_trace()\n",
    "        # temp = \" \".join(temp)\n",
    "        prediction_data.extend(temp)\n",
    "        prediction_nouns.extend([\" \".join(da) for da in inp_nouns[key]])\n",
    "        y.extend([class_index for da in inp_nouns[key]])\n",
    "        class_index += 1\n",
    "    return prediction_data, prediction_nouns, y"
   ]
  },
  {
   "cell_type": "code",
   "execution_count": 17,
   "metadata": {
    "collapsed": true
   },
   "outputs": [],
   "source": [
    "c_data, c_nouns,y = create_prediction_data(comment_data, comment_nouns)"
   ]
  },
  {
   "cell_type": "code",
   "execution_count": 18,
   "metadata": {
    "collapsed": true
   },
   "outputs": [],
   "source": [
    "xd_train, xd_test, xn_train, xn_test, y_train, y_test = train_test_split(c_data, c_nouns, y, test_size=0.3)"
   ]
  },
  {
   "cell_type": "code",
   "execution_count": 25,
   "metadata": {},
   "outputs": [
    {
     "data": {
      "text/plain": [
       "'people allegedly problem adaptec apparently really called magix solution bought audio cleaning lab installed read negative review called magix talked tech support people alleged problem discussed review said negative review could come 2 group people 1 people cd burner new pertinent driver written group 2 group coincidentally presence direct cd program running background seen pulling list program cntl alt del listing terminate adaptec one program many us direct cd problem since installing using program buyer beware issue user know system issue program good system highly recommend anyone transferring tape cd'"
      ]
     },
     "execution_count": 25,
     "metadata": {},
     "output_type": "execute_result"
    }
   ],
   "source": [
    "xd_train[200]"
   ]
  },
  {
   "cell_type": "markdown",
   "metadata": {},
   "source": [
    "### BOW"
   ]
  },
  {
   "cell_type": "markdown",
   "metadata": {},
   "source": [
    "The bag of words model is a simple, count-based model that represents statistics within text corpora. It can be done on a simple frequency base or using the term frequency-inverse document frequency (TFIDF). A sparse matrix is created that contains the word count for every possible word for each comment in the document. Since naturally most words don't appear in most of the comments, the matrix contains many empty entries (0)."
   ]
  },
  {
   "cell_type": "markdown",
   "metadata": {},
   "source": [
    "The initial part of this document is solely exploratory:"
   ]
  },
  {
   "cell_type": "code",
   "execution_count": 29,
   "metadata": {
    "collapsed": true
   },
   "outputs": [],
   "source": [
    "from model import collocations"
   ]
  },
  {
   "cell_type": "code",
   "execution_count": 30,
   "metadata": {
    "collapsed": true
   },
   "outputs": [],
   "source": [
    "test = apply_on_dict(flat_data, collocations.compute_collocation_bigram)"
   ]
  },
  {
   "cell_type": "code",
   "execution_count": 31,
   "metadata": {
    "collapsed": true
   },
   "outputs": [],
   "source": [
    "top10_freq_bigram_collocations =apply_on_dict(test, collocations.get_top_collocations_freq, [10])"
   ]
  },
  {
   "cell_type": "code",
   "execution_count": 32,
   "metadata": {},
   "outputs": [
    {
     "name": "stdout",
     "output_type": "stream",
     "text": [
      "{'Amazon_Instant_Video': [('love', 'show'), ('great', 'show'), ('story', 'line'), ('year', 'old'), ('season', '1'), ('first', 'season'), ('season', '2'), ('one', 'best'), ('tv', 'show'), ('season', '3')], 'Musical_Instruments': [('would', 'recommend'), ('sound', 'great'), ('work', 'great'), ('work', 'well'), ('sound', 'quality'), ('highly', 'recommend'), ('sound', 'like'), ('sound', 'good'), ('year', 'old'), ('well', 'made')], 'Baby': [('month', 'old'), ('year', 'old'), ('car', 'seat'), ('would', 'recommend'), ('highly', 'recommend'), ('easy', 'use'), ('easy', 'clean'), ('work', 'great'), ('6', 'month'), ('high', 'chair')], 'Patio_Lawn_and_Garden': [('work', 'great'), ('work', 'well'), ('easy', 'use'), ('would', 'recommend'), ('highly', 'recommend'), ('year', 'ago'), ('well', 'made'), ('1', '2'), ('put', 'together'), ('great', 'product')]}\n"
     ]
    }
   ],
   "source": [
    "print(top10_freq_bigram_collocations)"
   ]
  },
  {
   "cell_type": "code",
   "execution_count": 33,
   "metadata": {
    "collapsed": true
   },
   "outputs": [],
   "source": [
    "top10_pmi_bigram_collocations = apply_on_dict(test, collocations.get_top_collocations_pmi, [10])"
   ]
  },
  {
   "cell_type": "code",
   "execution_count": 34,
   "metadata": {},
   "outputs": [
    {
     "name": "stdout",
     "output_type": "stream",
     "text": [
      "{'Amazon_Instant_Video': [('000.with', 'unrivalled'), ('1.1', 'pilotas'), ('1.season', '42.season'), ('1000.the', 'badkilling'), ('10h', '7m'), ('114width', '142height'), ('12398', '12503'), ('12450', '12531'), ('12451', '12450'), ('12472', '12455')], 'Musical_Instruments': [('0.29b', '0.36g'), ('0.36g', '0.58d'), ('0.500', 'inch.update'), ('0.58d', '0.71a'), ('0.71a', '0.97e'), ('0.97e', '1.19'), ('0001', '0002'), ('00801m', 'antimicrobial'), ('0095', '0115'), ('00allan', 'pettersson14')], 'Baby': [('0209a', '0210a'), ('0210a', '02720'), ('02720', 'hk1100aae4bmjs'), ('0312258', '2784138'), ('1.0', 'togwhich'), ('1.good', 'quality2.comfortable3.useful'), ('10409', 'andmommy'), ('1100c.a', 'krueger'), ('12yrs', 'old.only'), ('130am', '730am')], 'Patio_Lawn_and_Garden': [('0.039kg', '39g'), ('0.41', '0.51'), ('0.46', 'ft3'), ('0.4ml', '46lb'), ('0.81', '2090'), ('0.final', 'tally'), ('003', '040105'), ('012', '3117'), ('0222', 'tachometer'), ('02yt202', '1in')]}\n"
     ]
    }
   ],
   "source": [
    "print(top10_pmi_bigram_collocations)"
   ]
  },
  {
   "cell_type": "markdown",
   "metadata": {},
   "source": [
    "The following part is used to create the bag of words that will then be used for the classifier. This bag of words model is entirely word frequency based without normalisation."
   ]
  },
  {
   "cell_type": "code",
   "execution_count": null,
   "metadata": {
    "collapsed": true
   },
   "outputs": [],
   "source": [
    "bow_train, bow_vectorizer = word_tokenize(xd_train)  # data.data = data_lst.tolist()"
   ]
  },
  {
   "cell_type": "code",
   "execution_count": null,
   "metadata": {
    "collapsed": true
   },
   "outputs": [],
   "source": [
    "bow_test = bow_vectorizer.transform(xd_test)"
   ]
  },
  {
   "cell_type": "code",
   "execution_count": 37,
   "metadata": {},
   "outputs": [
    {
     "name": "stdout",
     "output_type": "stream",
     "text": [
      "Vocabulary size (bow): 144426\n"
     ]
    }
   ],
   "source": [
    "print('Vocabulary size (bow): '+str(vocabulary_size(bow_vectorizer)))"
   ]
  },
  {
   "cell_type": "code",
   "execution_count": 38,
   "metadata": {},
   "outputs": [
    {
     "name": "stdout",
     "output_type": "stream",
     "text": [
      "['birkenstocks', 'birkey', 'birki', 'birkies', 'birks', 'birman', 'birmingham', 'birned', 'birney', 'birp']\n"
     ]
    }
   ],
   "source": [
    "print(bow_vectorizer.get_feature_names()[20000:20010])"
   ]
  },
  {
   "cell_type": "code",
   "execution_count": 58,
   "metadata": {},
   "outputs": [
    {
     "data": {
      "text/plain": [
       "<280000x144426 sparse matrix of type '<class 'numpy.int64'>'\n",
       "\twith 4196694 stored elements in Compressed Sparse Row format>"
      ]
     },
     "execution_count": 58,
     "metadata": {},
     "output_type": "execute_result"
    }
   ],
   "source": [
    "bow_vectorizer.transform(xn_train)"
   ]
  },
  {
   "cell_type": "markdown",
   "metadata": {},
   "source": [
    "### BOW NOUN"
   ]
  },
  {
   "cell_type": "markdown",
   "metadata": {},
   "source": [
    "An identical Bag of words matrix is created for the noun-filtered dataset."
   ]
  },
  {
   "cell_type": "code",
   "execution_count": null,
   "metadata": {
    "collapsed": true
   },
   "outputs": [],
   "source": [
    "bow_noun_train, bow_noun_vectorizer = word_tokenize(xn_train)"
   ]
  },
  {
   "cell_type": "code",
   "execution_count": null,
   "metadata": {
    "collapsed": true
   },
   "outputs": [],
   "source": [
    "bow_noun_test = bow_noun_vectorizer.transform(xn_test)"
   ]
  },
  {
   "cell_type": "code",
   "execution_count": 41,
   "metadata": {},
   "outputs": [
    {
     "name": "stdout",
     "output_type": "stream",
     "text": [
      "Vocabulary size (bow): 95530\n"
     ]
    }
   ],
   "source": [
    "print('Vocabulary size (bow): '+str(vocabulary_size(bow_noun_vectorizer)))"
   ]
  },
  {
   "cell_type": "code",
   "execution_count": 42,
   "metadata": {},
   "outputs": [
    {
     "data": {
      "text/plain": [
       "<280000x95530 sparse matrix of type '<class 'numpy.int64'>'\n",
       "\twith 4196694 stored elements in Compressed Sparse Row format>"
      ]
     },
     "execution_count": 42,
     "metadata": {},
     "output_type": "execute_result"
    }
   ],
   "source": [
    "bow_noun_vectorizer.transform(xn_train)"
   ]
  },
  {
   "cell_type": "markdown",
   "metadata": {},
   "source": [
    "### Bigram"
   ]
  },
  {
   "cell_type": "markdown",
   "metadata": {},
   "source": [
    "Furthermore, we will look into the bigrams in the text. Bigrams are two-word combinations that occur in the text. Similarly to the single-word based Bag of words model, we can count the frequency of the bigrams for every sentence and create a sparse bigram frequency matrix."
   ]
  },
  {
   "cell_type": "markdown",
   "metadata": {},
   "source": [
    "The initial part of this report is solely for exploration of some bigrams that can be found in the data."
   ]
  },
  {
   "cell_type": "code",
   "execution_count": 43,
   "metadata": {
    "collapsed": true
   },
   "outputs": [],
   "source": [
    "def combine(text_list):\n",
    "    text = []\n",
    "    for tl in text_list:\n",
    "        text += tl # [0]\n",
    "    return text"
   ]
  },
  {
   "cell_type": "code",
   "execution_count": 44,
   "metadata": {
    "collapsed": true
   },
   "outputs": [],
   "source": [
    "def create_n_gram(text, n=2):\n",
    "    n_grams = []\n",
    "    for t in range(len(text)-1):\n",
    "        ngrams.append((text[t],text[t+1]))\n",
    "    "
   ]
  },
  {
   "cell_type": "code",
   "execution_count": 59,
   "metadata": {
    "collapsed": true
   },
   "outputs": [],
   "source": [
    "bigrams = apply_on_list(data_cleaned[\"Amazon_Instant_Video\"],combine)\n"
   ]
  },
  {
   "cell_type": "code",
   "execution_count": 60,
   "metadata": {
    "collapsed": true
   },
   "outputs": [],
   "source": [
    "bigrams = combine(data_cleaned[\"Amazon_Instant_Video\"])"
   ]
  },
  {
   "cell_type": "markdown",
   "metadata": {},
   "source": [
    "The second part is about creating the bigram matrix for later analysis."
   ]
  },
  {
   "cell_type": "code",
   "execution_count": null,
   "metadata": {
    "collapsed": true
   },
   "outputs": [],
   "source": [
    "bigram_train, bigram_vectorizer = ngrams_tokenize(xd_train, 1, 2)"
   ]
  },
  {
   "cell_type": "code",
   "execution_count": null,
   "metadata": {
    "collapsed": true
   },
   "outputs": [],
   "source": [
    "bigram_test = bigram_vectorizer.transform(xd_test)"
   ]
  },
  {
   "cell_type": "code",
   "execution_count": 64,
   "metadata": {},
   "outputs": [
    {
     "name": "stdout",
     "output_type": "stream",
     "text": [
      "Vocabulary size (bigrams): 4244362\n",
      "Bigrams vocabulary size is 2938.78% larger than bow\n"
     ]
    }
   ],
   "source": [
    "print('Vocabulary size (bigrams): '+str(vocabulary_size(bigram_vectorizer)))\n",
    "perc = round(float(vocabulary_size(bigram_vectorizer)*100)/vocabulary_size(bow_vectorizer), 2)\n",
    "print('Bigrams vocabulary size is '+str(perc)+'% larger than bow')"
   ]
  },
  {
   "cell_type": "code",
   "execution_count": 65,
   "metadata": {},
   "outputs": [
    {
     "name": "stdout",
     "output_type": "stream",
     "text": [
      "['00 might', '00 mind', '00 mine', '00 mini', '00 minute', '00 mistake', '00 mm', '00 mne', '00 mobile', '00 model']\n"
     ]
    }
   ],
   "source": [
    "print(bigram_vectorizer.get_feature_names()[1000:1010])"
   ]
  },
  {
   "cell_type": "markdown",
   "metadata": {},
   "source": [
    "### TFIDF BOW"
   ]
  },
  {
   "cell_type": "markdown",
   "metadata": {},
   "source": [
    "We'll create identical matrixes to the BOW models above just with normalised TFIDF values instead of absolute counts. The shape of these matrices will be identical."
   ]
  },
  {
   "cell_type": "code",
   "execution_count": 19,
   "metadata": {
    "collapsed": true
   },
   "outputs": [],
   "source": [
    "from sklearn.feature_extraction.text import CountVectorizer\n",
    "from sklearn.feature_extraction.text import TfidfTransformer"
   ]
  },
  {
   "cell_type": "code",
   "execution_count": 20,
   "metadata": {
    "collapsed": true
   },
   "outputs": [],
   "source": [
    "count_vect = CountVectorizer()\n",
    "bow_tfidf_transformer = TfidfTransformer()\n",
    "X_train_counts = count_vect.fit_transform(xd_train)\n",
    "X_test_counts = count_vect.transform(xd_test)\n",
    "bow_tfidf_train = bow_tfidf_transformer.fit_transform(X_train_counts)\n",
    "bow_tfidf_test = bow_tfidf_transformer.transform(X_test_counts)"
   ]
  },
  {
   "cell_type": "markdown",
   "metadata": {},
   "source": [
    "### TFIDF NOUN BOW"
   ]
  },
  {
   "cell_type": "code",
   "execution_count": 21,
   "metadata": {
    "collapsed": true
   },
   "outputs": [],
   "source": [
    "count_vect = CountVectorizer()\n",
    "bow_noun_tfidf_transformer = TfidfTransformer()\n",
    "X_train_counts = count_vect.fit_transform(xn_train)\n",
    "X_test_counts =  count_vect.transform(xn_test)\n",
    "bow_noun_tfidf_train = bow_noun_tfidf_transformer.fit_transform(X_train_counts)\n",
    "bow_noun_tfidf_test = bow_noun_tfidf_transformer.transform(X_test_counts)"
   ]
  },
  {
   "cell_type": "markdown",
   "metadata": {},
   "source": [
    "### TFIDF BIGRAM"
   ]
  },
  {
   "cell_type": "code",
   "execution_count": 22,
   "metadata": {
    "collapsed": true
   },
   "outputs": [],
   "source": [
    "count_vect = CountVectorizer()\n",
    "bigram_tfidf_transformer = TfidfTransformer()\n",
    "tfidf_bigram_train, tfidf_bigram_vectorizer = ngrams_tokenize(xd_train, 1, 2)\n",
    "tfidf_bigram_test = tfidf_bigram_vectorizer.transform(xd_test)\n",
    "bigram_tfidf_train = bigram_tfidf_transformer.fit_transform(tfidf_bigram_train)\n",
    "bigram_tfidf_test = bigram_tfidf_transformer.transform(tfidf_bigram_test)"
   ]
  },
  {
   "cell_type": "markdown",
   "metadata": {},
   "source": [
    "### Singular Value Decomposition"
   ]
  },
  {
   "cell_type": "markdown",
   "metadata": {},
   "source": [
    "The resulting matrices from the steps above are very large, e.g. of the size 300000x88425. This large matrix with 88425 features is very complex for a machine learning model, because the model has to learn on many features. This difficulty is amplified by the fact that the matrix is extremly sparse and thus training data is raw.\n",
    "To avoid this shortcoming, one can perform singular value decomposition on the data. Singular value decomposition is a method that enables us to reconstruct a large matrix from its eigenvectors and eigenvalues. This is a form of dimensionality reduction and is done in such a matter, that the new eigenvectors cover as much of the original variance as possible, similarly to PCA.\n",
    "\n",
    "For every model above, we will remove the dimensionality to 100 components."
   ]
  },
  {
   "cell_type": "code",
   "execution_count": 23,
   "metadata": {
    "collapsed": true
   },
   "outputs": [],
   "source": [
    "from sklearn.decomposition import TruncatedSVD"
   ]
  },
  {
   "cell_type": "code",
   "execution_count": 24,
   "metadata": {
    "collapsed": true
   },
   "outputs": [],
   "source": [
    "preprocessed_representations = [bigram_tfidf_train, bow_noun_tfidf_train, bow_tfidf_train]"
   ]
  },
  {
   "cell_type": "markdown",
   "metadata": {},
   "source": [
    "Looking at our transformed files, we can confirm that we have sparse matrices with 280000 rows each. This is equivalent to 70% of the initial data. Furthermore, we can see that the bag of words for the noun filtered data are smaller than the corresponding ones for the whole corpora."
   ]
  },
  {
   "cell_type": "code",
   "execution_count": 25,
   "metadata": {},
   "outputs": [
    {
     "data": {
      "text/plain": [
       "[<280000x4245067 sparse matrix of type '<class 'numpy.float64'>'\n",
       " \twith 20751253 stored elements in Compressed Sparse Row format>,\n",
       " <280000x95925 sparse matrix of type '<class 'numpy.float64'>'\n",
       " \twith 4202547 stored elements in Compressed Sparse Row format>,\n",
       " <280000x144948 sparse matrix of type '<class 'numpy.float64'>'\n",
       " \twith 9472062 stored elements in Compressed Sparse Row format>]"
      ]
     },
     "execution_count": 25,
     "metadata": {},
     "output_type": "execute_result"
    }
   ],
   "source": [
    "preprocessed_representations"
   ]
  },
  {
   "cell_type": "code",
   "execution_count": 26,
   "metadata": {
    "collapsed": true
   },
   "outputs": [],
   "source": [
    "svd_models = []\n",
    "svd_results = []\n",
    "for rep in preprocessed_representations:\n",
    "    model = TruncatedSVD(n_components=50, n_iter=5, random_state=42)\n",
    "    svd_results.append(model.fit_transform(rep))\n",
    "    svd_models.append(model)"
   ]
  },
  {
   "cell_type": "code",
   "execution_count": null,
   "metadata": {
    "collapsed": true
   },
   "outputs": [],
   "source": [
    "save_data(svd_models,\"SVD_MODELS\")\n",
    "save_data(svd_results,\"SVD_RESULTS\")"
   ]
  },
  {
   "cell_type": "markdown",
   "metadata": {},
   "source": [
    "### Feature Selection"
   ]
  },
  {
   "cell_type": "markdown",
   "metadata": {},
   "source": [
    "From the 50 features per dataset created above, we will further reduce the dimensionality to 5 features per document. We will use the ANOVA f-value to determine which features to keep."
   ]
  },
  {
   "cell_type": "code",
   "execution_count": 27,
   "metadata": {
    "collapsed": true
   },
   "outputs": [],
   "source": [
    "from sklearn.feature_selection import SelectKBest\n",
    "from sklearn.feature_selection import chi2, f_classif"
   ]
  },
  {
   "cell_type": "code",
   "execution_count": 28,
   "metadata": {
    "collapsed": true
   },
   "outputs": [],
   "source": [
    "svd_feat_selected = []\n",
    "svd_feat_model = []\n",
    "for res in svd_results:\n",
    "    svd_feat = SelectKBest(f_classif, k=5)\n",
    "    temp = svd_feat.fit_transform(res, y_train)\n",
    "    svd_feat_selected.append(temp)\n",
    "    svd_feat_model.append(svd_feat)"
   ]
  },
  {
   "cell_type": "markdown",
   "metadata": {},
   "source": [
    "## Model Development"
   ]
  },
  {
   "cell_type": "markdown",
   "metadata": {},
   "source": [
    "For the model development, this example uses a simple SVM model from sklearn with linear kernel and the penalty parameter C of the error term with the default value of 1.0."
   ]
  },
  {
   "cell_type": "code",
   "execution_count": 29,
   "metadata": {},
   "outputs": [
    {
     "name": "stdout",
     "output_type": "stream",
     "text": [
      "0.789078571429\n",
      "[[63171  3080   512  2933]\n",
      " [ 3565 48768  1785 16070]\n",
      " [  880  3278 51931 14042]\n",
      " [ 1770  6775  4368 57072]]\n",
      "0.75335\n",
      "[[58645  2518   962  7571]\n",
      " [ 2817 45393  2813 19165]\n",
      " [  408  2702 50608 16413]\n",
      " [ 1589  6283  5821 56292]]\n",
      "0.79335\n",
      "[[63667  3058   589  2382]\n",
      " [ 3904 50974  2570 12740]\n",
      " [  711  3669 52559 13192]\n",
      " [ 1877  6536  6634 54938]]\n"
     ]
    }
   ],
   "source": [
    "clf_models  = []\n",
    "\n",
    "for svd in svd_feat_selected:\n",
    "    clf = svm.SVC()\n",
    "    clf.fit(svd, y_train)\n",
    "    clf_models.append(clf)\n",
    "    print(clf.score(svd, y_train))\n",
    "    print(confusion_matrix(y_train, clf.predict(svd)))"
   ]
  },
  {
   "cell_type": "markdown",
   "metadata": {},
   "source": [
    "## Model Validation"
   ]
  },
  {
   "cell_type": "markdown",
   "metadata": {},
   "source": [
    "The last part of the project is about validating the produced model by scoring it on the test set. What is important here is that all the transformations previously performed need to be done on the test data as well."
   ]
  },
  {
   "cell_type": "code",
   "execution_count": 30,
   "metadata": {
    "collapsed": true
   },
   "outputs": [],
   "source": [
    "test_representations = [bigram_tfidf_test, bow_noun_tfidf_test, bow_tfidf_test]"
   ]
  },
  {
   "cell_type": "code",
   "execution_count": 31,
   "metadata": {},
   "outputs": [
    {
     "name": "stdout",
     "output_type": "stream",
     "text": [
      "0.790491666667\n",
      "[[27241  1461   325  1277]\n",
      " [ 1480 20787   949  6596]\n",
      " [  311  1361 22864  5333]\n",
      " [  706  2972  2370 23967]]\n",
      "0.75425\n",
      "[[25376  1114   449  3365]\n",
      " [ 1220 19365  1238  7989]\n",
      " [  175  1176 21623  6895]\n",
      " [  635  2744  2490 24146]]\n",
      "0.793633333333\n",
      "[[27616  1336   287  1065]\n",
      " [ 1716 21570  1123  5403]\n",
      " [  302  1491 22540  5536]\n",
      " [  771  2900  2834 23510]]\n"
     ]
    }
   ],
   "source": [
    "transformed_rep = []\n",
    "for ind, rep in enumerate(test_representations):\n",
    "    # svd\n",
    "    svd = svd_models[ind].transform(rep)\n",
    "    # feature selection\n",
    "    fs = svd_feat_model[ind].transform(svd)\n",
    "    transformed_rep.append(fs)\n",
    "    # svc classification\n",
    "    print(clf_models[ind].score(fs, y_test))\n",
    "    # confusion matrix\n",
    "    print (confusion_matrix(y_test, clf_models[ind].predict(fs)))"
   ]
  },
  {
   "cell_type": "markdown",
   "metadata": {},
   "source": [
    "## Model Evaluation"
   ]
  },
  {
   "cell_type": "markdown",
   "metadata": {},
   "source": [
    "The three models perform well, scoring between 75% and 80%. The SVM model well reflects the underlying data structure and there is no sign of overfitting in any of the models. All three models score equivilantely well on training and on test data. Nonetheless, this gives rise to the presumption, that we could achieve a better performance with a different model."
   ]
  },
  {
   "cell_type": "markdown",
   "metadata": {},
   "source": [
    "We can observe that the models trained on the whole dataset performed a little better (~4 %) than the one that was only trained on the nouns. This leads to the assumption that other non-noun words are relevant for specific topics."
   ]
  },
  {
   "cell_type": "markdown",
   "metadata": {},
   "source": [
    "Evaluating the confusion matrix, we can clearly see that the diagonal ones (True Positives) outweigh the other matrix entries. This obviously reflects the model accuracy score. But we can see that the model did particularly well for some classes, while not doing so well for other classes. Interestingly, these patterns are consistent throughout the data. The model seems to be very good between differentiating between classes 0 and 2 (Amazon Instant Video vs. Baby). For example, on the test dataset the BOW classifier on all words classified 302 comments falsely to be about videos although being about babys while only 287 were classified as being about babys while being about videos. These numbers may seem high in absolute terms but they reflect a very good model performance in relative terms. Contrarily, the model seems to have some problems with predicting class 3 (Patio Lawn and Garden). On the test dataset, the model misclassified over 5000 comments as being part of classes 1 or 2 (Musical Instruments/Baby) using the BOW classifier. The other classifiers were even worse in this category. This either shows that the current model is not really fit to reflect the underlying notion of Patio Lawn and Garden comments or that these comments themselves are not very distinctive."
   ]
  },
  {
   "cell_type": "markdown",
   "metadata": {},
   "source": [
    "The created model is a rather simple model and more emphasis was put on the data preprocessing and transformation of textual data to text data. If I was to create a more accurate classifier, I would probably choose more advanced models, both for transforming the textual data into a numeric format and to analyze the numeric. I would probably attempt to integrate neural network for both (word2vec, feedforward neural network for classification)."
   ]
  },
  {
   "cell_type": "markdown",
   "metadata": {},
   "source": [
    "Six different formats of transformations for the same text corpus were presented: Bag of words, bag of words on nouns only, bigrams, bag of words using TFIDF, bag of words on nouns only using TFIDF, bigrams using TFIDF."
   ]
  },
  {
   "cell_type": "markdown",
   "metadata": {},
   "source": [
    "The preprocessing was done extensively. Nonetheless, some parts were left out. I think, the model could be more accurate if we had a way of transforming the rather casual language of these comments into a common word form, e.g. by finding acronyms, applying spelling correction etc. These steps were mainly not done due to computational restrictions."
   ]
  },
  {
   "cell_type": "markdown",
   "metadata": {},
   "source": [
    "Although the workflow was built on a subsample of the data, it required significant computational power to build the final model with 400.000 data points. In my opinion, it would make more sense to perform the analysis on less data. This would neither significantly worsen the model nor have any other implications."
   ]
  }
 ],
 "metadata": {
  "kernelspec": {
   "display_name": "Python 3",
   "language": "python",
   "name": "python3"
  },
  "language_info": {
   "codemirror_mode": {
    "name": "ipython",
    "version": 3
   },
   "file_extension": ".py",
   "mimetype": "text/x-python",
   "name": "python",
   "nbconvert_exporter": "python",
   "pygments_lexer": "ipython3",
   "version": "3.6.1"
  },
  "varInspector": {
   "cols": {
    "lenName": 16,
    "lenType": 16,
    "lenVar": 40
   },
   "kernels_config": {
    "python": {
     "delete_cmd_postfix": "",
     "delete_cmd_prefix": "del ",
     "library": "var_list.py",
     "varRefreshCmd": "print(var_dic_list())"
    },
    "r": {
     "delete_cmd_postfix": ") ",
     "delete_cmd_prefix": "rm(",
     "library": "var_list.r",
     "varRefreshCmd": "cat(var_dic_list()) "
    }
   },
   "types_to_exclude": [
    "module",
    "function",
    "builtin_function_or_method",
    "instance",
    "_Feature"
   ],
   "window_display": false
  }
 },
 "nbformat": 4,
 "nbformat_minor": 2
}
